{
 "cells": [
  {
   "cell_type": "markdown",
   "metadata": {},
   "source": [
    "# Neural networks with PyTorch\n",
    "\n",
    "Deep learning networks tend to be massive with dozens or hundreds of layers, that's where the term \"deep\" comes from. You can build one of these deep networks using only weight matrices as we did in the previous notebook, but in general it's very cumbersome and difficult to implement. PyTorch has a nice module `nn` that provides a nice way to efficiently build large neural networks."
   ]
  },
  {
   "cell_type": "code",
   "execution_count": 2,
   "metadata": {},
   "outputs": [],
   "source": [
    "# Import necessary packages\n",
    "\n",
    "%matplotlib inline\n",
    "%config InlineBackend.figure_format = 'retina'\n",
    "\n",
    "import numpy as np\n",
    "import torch\n",
    "\n",
    "import helper\n",
    "\n",
    "import matplotlib.pyplot as plt"
   ]
  },
  {
   "cell_type": "markdown",
   "metadata": {},
   "source": [
    "\n",
    "Now we're going to build a larger network that can solve a (formerly) difficult problem, identifying text in an image. Here we'll use the MNIST dataset which consists of greyscale handwritten digits. Each image is 28x28 pixels, you can see a sample below\n",
    "\n",
    "<img src='assets/mnist.png'>\n",
    "\n",
    "Our goal is to build a neural network that can take one of these images and predict the digit in the image.\n",
    "\n",
    "First up, we need to get our dataset. This is provided through the `torchvision` package. The code below will download the MNIST dataset, then create training and test datasets for us. Don't worry too much about the details here, you'll learn more about this later."
   ]
  },
  {
   "cell_type": "code",
   "execution_count": 3,
   "metadata": {},
   "outputs": [],
   "source": [
    "### Run this cell\n",
    "\n",
    "from torchvision import datasets, transforms\n",
    "\n",
    "# Define a transform to normalize the data\n",
    "transform = transforms.Compose([transforms.ToTensor(),\n",
    "                              transforms.Normalize((0.5,), (0.5,)),\n",
    "                              ])\n",
    "\n",
    "# Download and load the training data\n",
    "trainset = datasets.MNIST('~/.pytorch/MNIST_data/', download=True, train=True, transform=transform)\n",
    "trainloader = torch.utils.data.DataLoader(trainset, batch_size=64, shuffle=True)"
   ]
  },
  {
   "cell_type": "markdown",
   "metadata": {},
   "source": [
    "We have the training data loaded into `trainloader` and we make that an iterator with `iter(trainloader)`. Later, we'll use this to loop through the dataset for training, like\n",
    "\n",
    "```python\n",
    "for image, label in trainloader:\n",
    "    ## do things with images and labels\n",
    "```\n",
    "\n",
    "You'll notice I created the `trainloader` with a batch size of 64, and `shuffle=True`. The batch size is the number of images we get in one iteration from the data loader and pass through our network, often called a *batch*. And `shuffle=True` tells it to shuffle the dataset every time we start going through the data loader again. But here I'm just grabbing the first batch so we can check out the data. We can see below that `images` is just a tensor with size `(64, 1, 28, 28)`. So, 64 images per batch, 1 color channel, and 28x28 images."
   ]
  },
  {
   "cell_type": "code",
   "execution_count": 4,
   "metadata": {},
   "outputs": [
    {
     "name": "stdout",
     "output_type": "stream",
     "text": [
      "<class 'torch.Tensor'>\n",
      "torch.Size([64, 1, 28, 28])\n",
      "torch.Size([64])\n"
     ]
    }
   ],
   "source": [
    "dataiter = iter(trainloader)\n",
    "images, labels = dataiter.next()\n",
    "print(type(images))\n",
    "print(images.shape)\n",
    "print(labels.shape)"
   ]
  },
  {
   "cell_type": "markdown",
   "metadata": {},
   "source": [
    "This is what one of the images looks like. "
   ]
  },
  {
   "cell_type": "code",
   "execution_count": 5,
   "metadata": {},
   "outputs": [
    {
     "data": {
      "image/png": "[encoded data removed]",
      "text/plain": [
       "<Figure size 432x288 with 1 Axes>"
      ]
     },
     "metadata": {
      "image/png": {
       "height": 250,
       "width": 253
      },
      "needs_background": "light"
     },
     "output_type": "display_data"
    }
   ],
   "source": [
    "plt.imshow(images[1].numpy().squeeze(), cmap='Greys_r');"
   ]
  },
  {
   "cell_type": "markdown",
   "metadata": {},
   "source": [
    "First, let's try to build a simple network for this dataset using weight matrices and matrix multiplications. Then, we'll see how to do it using PyTorch's `nn` module which provides a much more convenient and powerful method for defining network architectures.\n",
    "\n",
    "The networks you've seen so far are called *fully-connected* or *dense* networks. Each unit in one layer is connected to each unit in the next layer. In fully-connected networks, the input to each layer must be a one-dimensional vector (which can be stacked into a 2D tensor as a batch of multiple examples). However, our images are 28x28 2D tensors, so we need to convert them into 1D vectors. Thinking about sizes, we need to convert the batch of images with shape `(64, 1, 28, 28)` to a have a shape of `(64, 784)`, 784 is 28 times 28. This is typically called *flattening*, we flattened the 2D images into 1D vectors.\n",
    "\n",
    "Previously you built a network with one output unit. Here we need 10 output units, one for each digit. We want our network to predict the digit shown in an image, so what we'll do is calculate probabilities that the image is of any one digit or class. This ends up being a discrete probability distribution over the classes (digits) that tells us the most likely class for the image. That means we need 10 output units for the 10 classes (digits). We'll see how to convert the network output into a probability distribution next.\n",
    "\n",
    "> **Exercise:** Flatten the batch of images `images`. Then build a multi-layer network with 784 input units, 256 hidden units, and 10 output units using random tensors for the weights and biases. For now, use a sigmoid activation for the hidden layer. Leave the output layer without an activation, we'll add one that gives us a probability distribution next."
   ]
  },
  {
   "cell_type": "code",
   "execution_count": 6,
   "metadata": {},
   "outputs": [
    {
     "name": "stdout",
     "output_type": "stream",
     "text": [
      "tensor([[-23.9232,  12.7167,  -2.3003,   7.5892,  -2.1281,  11.2457,  -9.9911,\n",
      "          -5.6724,  11.3442,  24.6465],\n",
      "        [-12.3348,  12.4590,  -0.5107,  11.0962,  -4.7683,  13.6060,   2.3266,\n",
      "          -0.2444,  -0.7312,  23.5395],\n",
      "        [-11.7528,  11.6272,  -2.4646,   9.4653,  -6.3718,  15.6833,  -6.8838,\n",
      "          -7.5412,   4.1169,  26.7660],\n",
      "        [-13.9483,  -1.0811,   0.4094,  11.1808,  -3.8727,  10.4558, -12.5148,\n",
      "          -4.1922,   4.9776,  23.9354],\n",
      "        [-12.9003,   5.0585,  -5.1502,  -7.3999,  -9.9866,  17.7382,  -9.2729,\n",
      "          -8.7242,   8.2231,  21.6553],\n",
      "        [-13.6961,   2.1500,  -8.1835,   0.7796,  -8.0168,  11.3764,  -9.6541,\n",
      "           0.5302,  10.2218,  22.1879],\n",
      "        [-21.5154,   7.4957,  -1.8896, -14.3297,  -0.6835,  13.2679,  -4.0860,\n",
      "          -5.4520,   6.7697,  17.2658],\n",
      "        [ -8.1034,  15.3317,  -3.1109,   0.6373,  -1.5731,  15.2721,  -7.4336,\n",
      "          -7.0837,   7.8790,  24.6062],\n",
      "        [-11.9971,   6.8875,   6.4243,  -0.9613,   1.0309,  13.4724,  -4.7042,\n",
      "          -4.0496,  -1.3984,  25.1173],\n",
      "        [-14.1218,  10.5850,  -6.9692,  11.1182,  -8.6249,  16.1359,   0.1481,\n",
      "          -3.4755,   5.9431,  31.5889],\n",
      "        [-12.8570,   7.6808,   6.0454,   0.1862,  -2.8844,  11.3869,  -3.9335,\n",
      "          -3.5585,   0.1827,  30.4774],\n",
      "        [-13.0054,   7.1327,  -5.5667,   1.5867,  -7.1547,  13.4149,  -8.9002,\n",
      "          -4.0177,   8.2974,  27.1574],\n",
      "        [-17.1817,  -2.5895,  -3.5803,   5.0995, -12.0797,   6.7600,  -6.1545,\n",
      "          -2.1013,   7.5465,  23.6979],\n",
      "        [-16.8007,  14.0456,  -0.7826,  -4.0694,  -4.4609,  11.3397,  -7.4146,\n",
      "          -3.0778,   7.2484,  22.4859],\n",
      "        [-10.3874,   6.3702,  -5.4400,  -2.6185,   3.7056,   7.6470, -10.1018,\n",
      "          -5.1497,   3.3676,  29.3250],\n",
      "        [-22.9448,   9.2229,  -0.5591,  -1.5895, -18.0691,  10.0635,  -4.0421,\n",
      "          -8.2750,  10.2254,  18.1222],\n",
      "        [-15.7618,  13.6045,   2.7702,  -4.2018,  -9.8144,   9.7561, -16.0050,\n",
      "          -8.8195,   7.5230,  14.9033],\n",
      "        [-12.3903,   8.8776,   2.0509,  -4.9933,  -6.9242,  14.0696, -12.9231,\n",
      "         -12.8269,   7.2909,  26.0367],\n",
      "        [-11.4999,   5.2752,  -0.0893,   5.2557,  -1.6477,  12.5874,  -3.1118,\n",
      "          -6.3304,   2.0261,  20.2583],\n",
      "        [-14.7071,   4.3365,  -5.5722,  -3.7473,   0.0649,   1.1077, -14.9657,\n",
      "           0.4578,   1.9717,  28.6367],\n",
      "        [ -4.7401,   5.5901, -14.6351,  -7.2239,  -4.7530,  13.0434, -10.5820,\n",
      "          -7.9288,   7.9162,  24.8545],\n",
      "        [-20.0941,   1.6592,   5.4199,  -0.1525, -11.7190,  13.0102,  -4.6443,\n",
      "           0.4400,   4.3094,  17.6298],\n",
      "        [-14.3432,   2.9785,  -1.9115,   1.4411,  -5.2480,   7.1138, -14.3350,\n",
      "          -8.4212,   9.9287,  28.5120],\n",
      "        [-17.6207,   6.1250,  -3.4923,  -0.3214,  -6.6142,  17.4087,  -4.3062,\n",
      "          -5.4569,   1.0114,  21.5728],\n",
      "        [-15.8792,   0.0189,  -3.6642,  -3.5516,  -3.6670,  15.5212, -12.1184,\n",
      "          -6.7659,   3.3903,  21.4807],\n",
      "        [-19.9089,   4.6325,   4.9188, -13.8474,  -3.2095,  10.6096,  -5.6109,\n",
      "          -8.1224,   3.0749,  17.9364],\n",
      "        [-13.6986,  11.0231,  -6.9466,  -0.7507,  -2.9110,  12.0188, -20.0709,\n",
      "           3.4846,   9.4365,  23.2639],\n",
      "        [-14.6582,  10.4581,  -2.0330,  -0.3047,  -7.9524,  16.5661, -10.8797,\n",
      "          -6.5744,   2.5806,  25.7119],\n",
      "        [-10.3968,   6.3763,   5.0038,   6.8130,  -5.8482,  14.5745,   7.6511,\n",
      "          -6.3024,   8.6412,  21.2133],\n",
      "        [-11.9178,   3.1176,  -9.3216,  -3.9093,  -3.1198,   2.4656, -18.4845,\n",
      "           4.1097,   3.2259,  21.5579],\n",
      "        [-15.9820,  14.0799,  -0.1619,  -4.0560,   0.0448,   6.3753, -13.0883,\n",
      "          -4.9526,   6.5064,  26.5622],\n",
      "        [-16.2300,   5.6292,  -0.4609,   0.7156, -10.2073,  18.1579,  -8.9711,\n",
      "          -6.0017,   5.3937,  22.8678],\n",
      "        [-12.1347,  -0.9261,   0.6681,  -1.9344,  -6.3723,  12.6996, -10.4972,\n",
      "          -3.3978,   7.0698,  19.3176],\n",
      "        [-17.9765,   3.0190,  -1.7278,   4.7178, -12.7250,  16.4323,  -9.4344,\n",
      "          -8.3013,  11.7561,  19.2130],\n",
      "        [-18.2617,  13.0188,   1.0920,  -2.1866,  -7.4445,  10.0750, -12.8712,\n",
      "         -15.6424,   8.6581,  23.1730],\n",
      "        [-11.7433,   2.2324,  -5.3432,  -0.3911,  -9.9108,  20.0410,  -7.3353,\n",
      "          -8.7466,   7.9317,  18.9828],\n",
      "        [-13.0500,  10.3161,  -0.8945,   3.6339,  -8.2906,  13.1451,  -6.8802,\n",
      "          -6.1875,   3.1111,  24.6639],\n",
      "        [-11.7726,   0.2589,   5.0551,  -9.5373,  -5.9960,  12.1310, -10.9271,\n",
      "           0.8536,   9.2797,  17.0260],\n",
      "        [-19.2307,  11.4882,  -7.2261,  -5.7382,  -7.8262,  11.3254,  -7.0768,\n",
      "          -1.5368,  24.2378,  13.5773],\n",
      "        [-18.4782,   2.0163,   3.0701,   7.6998, -14.0815,  20.0598,   0.6070,\n",
      "          -8.4345,   8.5860,  15.5651],\n",
      "        [-16.5789,   7.3625,  -5.6737,   8.0689,  -7.0860,  16.3378,   3.6495,\n",
      "          -6.2005,   6.1403,  30.9572],\n",
      "        [ -4.7873,   5.0191,  -2.8639,  -4.2995, -10.1644,   9.3175,  -6.1759,\n",
      "          -0.7257,   7.0463,  28.6196],\n",
      "        [-14.3153,   8.6078,   1.9318,   1.6210,  -5.6163,  14.1845,  -6.6433,\n",
      "         -11.7594,   1.7371,  26.9947],\n",
      "        [-21.3006,   8.2494,   3.3535,   3.9718,  -7.4687,  13.5110,  -4.4406,\n",
      "          -7.9189,   7.8072,  21.6481],\n",
      "        [-15.3647,   8.3263,  -9.5170,  -3.3228,  -3.4066,  12.1154, -11.6373,\n",
      "         -11.3863,   5.6808,  23.0029],\n",
      "        [-15.6167,   8.8548,   1.4261,   2.0674,  -6.3754,   6.3823,  -4.3021,\n",
      "          -6.5238,   3.2872,  16.6853],\n",
      "        [-12.7934,  14.7187,   5.6927,  -6.4671,  -5.9170,  13.2051,  -0.0958,\n",
      "          -6.4711,  12.5001,  21.8703],\n",
      "        [-11.5650,   9.4843,  -7.4729,   0.6144,  -0.5939,  13.6052, -10.7496,\n",
      "          -9.4215,   0.0972,  28.4556],\n",
      "        [-11.9624,   1.5786,   4.6837,  -3.4325,  -6.9178,  14.3283,  -3.3728,\n",
      "         -12.1035,  18.7762,  21.6088],\n",
      "        [-17.9025,   5.0705,   0.4071,   3.2451,  -9.0187,   4.6164,  -4.4510,\n",
      "         -10.2783,   1.6019,  21.7991],\n",
      "        [-15.2822,   7.8611,   0.2948,   6.2336,  -4.1619,  12.7479,  -1.0898,\n",
      "          -2.0399,  -1.2425,  18.7267],\n",
      "        [-15.6518,   7.9988, -10.7277,  -1.8154,  -7.4451,   6.2732,  -3.7275,\n",
      "          -3.5321,   8.6084,  24.5891],\n",
      "        [-22.0622,   1.2671,  -7.4267,  -3.5960,  -4.4079,   9.0884,  -4.8081,\n",
      "          -4.9753,   8.8004,  26.9505],\n",
      "        [-11.7723,   4.2684,  -7.6924,   2.9114,  -3.1094,  15.9477, -13.1998,\n",
      "          -3.1829,   1.5088,  30.7304],\n",
      "        [ -8.7603,   7.7341, -10.2539,   5.5478,  -3.6548,  18.9460, -10.3552,\n",
      "          -9.7425,   1.7189,  26.3327],\n",
      "        [-21.0357,   5.1667,   2.5891,   5.0767,  -2.4061,  14.8639,  -3.7757,\n",
      "          -1.3584,   1.0724,  27.7729],\n",
      "        [-16.0181,   5.6017,   7.0990,  -4.0469,  -9.9583,  15.7233,  -0.0053,\n",
      "          -0.1736,  10.6966,  17.6440],\n",
      "        [-15.3936,   4.5505,  -1.5327,   0.2102,  -3.7442,  12.0009,  -4.8538,\n",
      "          -0.1923,   9.6072,  29.2762],\n",
      "        [-15.0904,   2.0360,  -2.0017,  -3.1457,  -3.0638,   9.0224, -11.0744,\n",
      "          -0.9039,   2.7669,  24.1242],\n",
      "        [-12.1071,  12.3608,  -4.8354,  -1.9698, -10.7254,  11.0335,  -0.6023,\n",
      "         -13.4250,  10.5205,  28.6045],\n",
      "        [-10.4777,   7.9423,   7.0665,   9.7065,  -1.3394,  11.8193,   2.3190,\n",
      "         -10.8394,  14.3751,  23.2425],\n",
      "        [-17.1454,   7.2697,   2.6045,   7.5835,  -3.8356,  15.0734,  -5.2187,\n",
      "          -3.0847,   4.1738,  15.7659],\n",
      "        [-19.8794,  16.6266,  -0.1527,   3.4004,  -9.2204,  13.2584, -10.1389,\n",
      "          -8.0137,   8.8237,  26.1861],\n",
      "        [-19.3114,  12.4379,  -3.0270,  -7.7693,  -5.9303,   9.9938,  -8.6014,\n",
      "         -10.6119,   6.6076,  26.2188]])\n"
     ]
    }
   ],
   "source": [
    "## Your solution\n",
    "\n",
    "def activation(x):\n",
    "    return 1/(1+torch.exp(-x))\n",
    "\n",
    "# Flatten the input images\n",
    "inputs = images.view(images.shape[0], -1)\n",
    "\n",
    "# Create parameters\n",
    "w1 = torch.randn(784, 256)\n",
    "b1 = torch.randn(256)\n",
    "\n",
    "w2 = torch.randn(256, 10)\n",
    "b2 = torch.randn(10)\n",
    "\n",
    "h = activation(torch.mm(inputs, w1) + b1)\n",
    "              \n",
    "out = torch.mm(h, w2) + b2       # output of your network, should have shape (64,10)\n",
    "\n",
    "print(out)\n"
   ]
  },
  {
   "cell_type": "markdown",
   "metadata": {},
   "source": [
    "Now we have 10 outputs for our network. We want to pass in an image to our network and get out a probability distribution over the classes that tells us the likely class(es) the image belongs to. Something that looks like this:\n",
    "<img src='assets/image_distribution.png' width=500px>\n",
    "\n",
    "Here we see that the probability for each class is roughly the same. This is representing an untrained network, it hasn't seen any data yet so it just returns a uniform distribution with equal probabilities for each class.\n",
    "\n",
    "To calculate this probability distribution, we often use the [**softmax** function](https://en.wikipedia.org/wiki/Softmax_function). Mathematically this looks like\n",
    "\n",
    "$$\n",
    "\\Large \\sigma(x_i) = \\cfrac{e^{x_i}}{\\sum_k^K{e^{x_k}}}\n",
    "$$\n",
    "\n",
    "What this does is squish each input $x_i$ between 0 and 1 and normalizes the values to give you a proper probability distribution where the probabilites sum up to one.\n",
    "\n",
    "> **Exercise:** Implement a function `softmax` that performs the softmax calculation and returns probability distributions for each example in the batch. Note that you'll need to pay attention to the shapes when doing this. If you have a tensor `a` with shape `(64, 10)` and a tensor `b` with shape `(64,)`, doing `a/b` will give you an error because PyTorch will try to do the division across the columns (called broadcasting) but you'll get a size mismatch. The way to think about this is for each of the 64 examples, you only want to divide by one value, the sum in the denominator. So you need `b` to have a shape of `(64, 1)`. This way PyTorch will divide the 10 values in each row of `a` by the one value in each row of `b`. Pay attention to how you take the sum as well. You'll need to define the `dim` keyword in `torch.sum`. Setting `dim=0` takes the sum across the rows while `dim=1` takes the sum across the columns."
   ]
  },
  {
   "cell_type": "code",
   "execution_count": 7,
   "metadata": {},
   "outputs": [
    {
     "name": "stdout",
     "output_type": "stream",
     "text": [
      "torch.Size([64, 10])\n",
      "tensor([1.0000, 1.0000, 1.0000, 1.0000, 1.0000, 1.0000, 1.0000, 1.0000, 1.0000,\n",
      "        1.0000, 1.0000, 1.0000, 1.0000, 1.0000, 1.0000, 1.0000, 1.0000, 1.0000,\n",
      "        1.0000, 1.0000, 1.0000, 1.0000, 1.0000, 1.0000, 1.0000, 1.0000, 1.0000,\n",
      "        1.0000, 1.0000, 1.0000, 1.0000, 1.0000, 1.0000, 1.0000, 1.0000, 1.0000,\n",
      "        1.0000, 1.0000, 1.0000, 1.0000, 1.0000, 1.0000, 1.0000, 1.0000, 1.0000,\n",
      "        1.0000, 1.0000, 1.0000, 1.0000, 1.0000, 1.0000, 1.0000, 1.0000, 1.0000,\n",
      "        1.0000, 1.0000, 1.0000, 1.0000, 1.0000, 1.0000, 1.0000, 1.0000, 1.0000,\n",
      "        1.0000])\n"
     ]
    }
   ],
   "source": [
    "def softmax(x):\n",
    "    ## TODO: Implement the softmax function here\n",
    "    return torch.exp(x)/torch.sum(torch.exp(x), dim=1).view(-1, 1)\n",
    "\n",
    "# Here, out should be the output of the network in the previous excercise with shape (64,10)\n",
    "probabilities = softmax(out)\n",
    "\n",
    "# Does it have the right shape? Should be (64, 10)\n",
    "print(probabilities.shape)\n",
    "# Does it sum to 1?\n",
    "print(probabilities.sum(dim=1))"
   ]
  },
  {
   "cell_type": "markdown",
   "metadata": {},
   "source": [
    "## Building networks with PyTorch\n",
    "\n",
    "PyTorch provides a module `nn` that makes building networks much simpler. Here I'll show you how to build the same one as above with 784 inputs, 256 hidden units, 10 output units and a softmax output."
   ]
  },
  {
   "cell_type": "code",
   "execution_count": 8,
   "metadata": {},
   "outputs": [],
   "source": [
    "from torch import nn"
   ]
  },
  {
   "cell_type": "code",
   "execution_count": 9,
   "metadata": {},
   "outputs": [],
   "source": [
    "class Network(nn.Module):\n",
    "    def __init__(self):\n",
    "        super().__init__()\n",
    "        \n",
    "        # Inputs to hidden layer linear transformation\n",
    "        self.hidden = nn.Linear(784, 256)\n",
    "        # Output layer, 10 units - one for each digit\n",
    "        self.output = nn.Linear(256, 10)\n",
    "        \n",
    "        # Define sigmoid activation and softmax output \n",
    "        self.sigmoid = nn.Sigmoid()\n",
    "        self.softmax = nn.Softmax(dim=1)\n",
    "        \n",
    "    def forward(self, x):\n",
    "        # Pass the input tensor through each of our operations\n",
    "        x = self.hidden(x)\n",
    "        x = self.sigmoid(x)\n",
    "        x = self.output(x)\n",
    "        x = self.softmax(x)\n",
    "        \n",
    "        return x"
   ]
  },
  {
   "cell_type": "markdown",
   "metadata": {},
   "source": [
    "Let's go through this bit by bit.\n",
    "\n",
    "```python\n",
    "class Network(nn.Module):\n",
    "```\n",
    "\n",
    "Here we're inheriting from `nn.Module`. Combined with `super().__init__()` this creates a class that tracks the architecture and provides a lot of useful methods and attributes. It is mandatory to inherit from `nn.Module` when you're creating a class for your network. The name of the class itself can be anything.\n",
    "\n",
    "```python\n",
    "self.hidden = nn.Linear(784, 256)\n",
    "```\n",
    "\n",
    "This line creates a module for a linear transformation, $x\\mathbf{W} + b$, with 784 inputs and 256 outputs and assigns it to `self.hidden`. The module automatically creates the weight and bias tensors which we'll use in the `forward` method. You can access the weight and bias tensors once the network (`net`) is created with `net.hidden.weight` and `net.hidden.bias`.\n",
    "\n",
    "```python\n",
    "self.output = nn.Linear(256, 10)\n",
    "```\n",
    "\n",
    "Similarly, this creates another linear transformation with 256 inputs and 10 outputs.\n",
    "\n",
    "```python\n",
    "self.sigmoid = nn.Sigmoid()\n",
    "self.softmax = nn.Softmax(dim=1)\n",
    "```\n",
    "\n",
    "Here I defined operations for the sigmoid activation and softmax output. Setting `dim=1` in `nn.Softmax(dim=1)` calculates softmax across the columns.\n",
    "\n",
    "```python\n",
    "def forward(self, x):\n",
    "```\n",
    "\n",
    "PyTorch networks created with `nn.Module` must have a `forward` method defined. It takes in a tensor `x` and passes it through the operations you defined in the `__init__` method.\n",
    "\n",
    "```python\n",
    "x = self.hidden(x)\n",
    "x = self.sigmoid(x)\n",
    "x = self.output(x)\n",
    "x = self.softmax(x)\n",
    "```\n",
    "\n",
    "Here the input tensor `x` is passed through each operation a reassigned to `x`. We can see that the input tensor goes through the hidden layer, then a sigmoid function, then the output layer, and finally the softmax function. It doesn't matter what you name the variables here, as long as the inputs and outputs of the operations match the network architecture you want to build. The order in which you define things in the `__init__` method doesn't matter, but you'll need to sequence the operations correctly in the `forward` method.\n",
    "\n",
    "Now we can create a `Network` object."
   ]
  },
  {
   "cell_type": "code",
   "execution_count": 10,
   "metadata": {},
   "outputs": [
    {
     "data": {
      "text/plain": [
       "Network(\n",
       "  (hidden): Linear(in_features=784, out_features=256, bias=True)\n",
       "  (output): Linear(in_features=256, out_features=10, bias=True)\n",
       "  (sigmoid): Sigmoid()\n",
       "  (softmax): Softmax()\n",
       ")"
      ]
     },
     "execution_count": 10,
     "metadata": {},
     "output_type": "execute_result"
    }
   ],
   "source": [
    "# Create the network and look at it's text representation\n",
    "model = Network()\n",
    "model"
   ]
  },
  {
   "cell_type": "markdown",
   "metadata": {},
   "source": [
    "You can define the network somewhat more concisely and clearly using the `torch.nn.functional` module. This is the most common way you'll see networks defined as many operations are simple element-wise functions. We normally import this module as `F`, `import torch.nn.functional as F`."
   ]
  },
  {
   "cell_type": "code",
   "execution_count": null,
   "metadata": {
    "collapsed": true
   },
   "outputs": [],
   "source": [
    "import torch.nn.functional as F\n",
    "\n",
    "class Network(nn.Module):\n",
    "    def __init__(self):\n",
    "        super().__init__()\n",
    "        # Inputs to hidden layer linear transformation\n",
    "        self.hidden = nn.Linear(784, 256)\n",
    "        # Output layer, 10 units - one for each digit\n",
    "        self.output = nn.Linear(256, 10)\n",
    "        \n",
    "    def forward(self, x):\n",
    "        # Hidden layer with sigmoid activation\n",
    "        x = F.sigmoid(self.hidden(x))\n",
    "        # Output layer with softmax activation\n",
    "        x = F.softmax(self.output(x), dim=1)\n",
    "        \n",
    "        return x"
   ]
  },
  {
   "cell_type": "markdown",
   "metadata": {},
   "source": [
    "### Activation functions\n",
    "\n",
    "So far we've only been looking at the softmax activation, but in general any function can be used as an activation function. The only requirement is that for a network to approximate a non-linear function, the activation functions must be non-linear. Here are a few more examples of common activation functions: Tanh (hyperbolic tangent), and ReLU (rectified linear unit).\n",
    "\n",
    "<img src=\"assets/activation.png\" width=700px>\n",
    "\n",
    "In practice, the ReLU function is used almost exclusively as the activation function for hidden layers."
   ]
  },
  {
   "cell_type": "markdown",
   "metadata": {},
   "source": [
    "### Your Turn to Build a Network\n",
    "\n",
    "<img src=\"assets/mlp_mnist.png\" width=600px>\n",
    "\n",
    "> **Exercise:** Create a network with 784 input units, a hidden layer with 128 units and a ReLU activation, then a hidden layer with 64 units and a ReLU activation, and finally an output layer with a softmax activation as shown above. You can use a ReLU activation with the `nn.ReLU` module or `F.relu` function."
   ]
  },
  {
   "cell_type": "code",
   "execution_count": 15,
   "metadata": {
    "scrolled": true
   },
   "outputs": [
    {
     "data": {
      "text/plain": [
       "Network(\n",
       "  (fc1): Linear(in_features=784, out_features=128, bias=True)\n",
       "  (fc2): Linear(in_features=128, out_features=64, bias=True)\n",
       "  (fc3): Linear(in_features=64, out_features=10, bias=True)\n",
       ")"
      ]
     },
     "execution_count": 15,
     "metadata": {},
     "output_type": "execute_result"
    }
   ],
   "source": [
    "## Your solution here\n",
    "\n",
    "import torch.nn.functional as F\n",
    "\n",
    "class Network(nn.Module):\n",
    "    def __init__(self):\n",
    "        super().__init__()\n",
    "        # Inputs to hidden layer linear transformation\n",
    "        self.fc1 = nn.Linear(784, 128)\n",
    "        # Inputs to hidden layer linear transformation\n",
    "        self.fc2 = nn.Linear(128, 64)\n",
    "        # Output layer, 10 units - one for each digit\n",
    "        self.fc3 = nn.Linear(64, 10)\n",
    "        \n",
    "    def forward(self, x):\n",
    "        # Hidden layer with sigmoid activation\n",
    "        x = F.relu(self.fc1(x))\n",
    "        x = F.relu(self.fc2(x))\n",
    "        # Output layer with softmax activation\n",
    "        x = F.softmax(self.fc3(x), dim=1)\n",
    "        \n",
    "        return x\n",
    "\n",
    "model = Network()\n",
    "model"
   ]
  },
  {
   "cell_type": "markdown",
   "metadata": {},
   "source": [
    "### Initializing weights and biases\n",
    "\n",
    "The weights and such are automatically initialized for you, but it's possible to customize how they are initialized. The weights and biases are tensors attached to the layer you defined, you can get them with `model.fc1.weight` for instance."
   ]
  },
  {
   "cell_type": "code",
   "execution_count": 16,
   "metadata": {},
   "outputs": [
    {
     "name": "stdout",
     "output_type": "stream",
     "text": [
      "Parameter containing:\n",
      "tensor([[-0.0008, -0.0104,  0.0035,  ..., -0.0048,  0.0268,  0.0023],\n",
      "        [ 0.0068, -0.0087, -0.0350,  ..., -0.0271, -0.0232, -0.0016],\n",
      "        [-0.0086, -0.0356,  0.0178,  ...,  0.0121,  0.0059, -0.0238],\n",
      "        ...,\n",
      "        [ 0.0202,  0.0104,  0.0074,  ..., -0.0120,  0.0231,  0.0031],\n",
      "        [-0.0109, -0.0134,  0.0305,  ...,  0.0319, -0.0019,  0.0285],\n",
      "        [-0.0076,  0.0091,  0.0100,  ..., -0.0205,  0.0066,  0.0292]],\n",
      "       requires_grad=True)\n",
      "Parameter containing:\n",
      "tensor([-0.0354,  0.0306, -0.0145,  0.0249,  0.0114, -0.0199, -0.0280, -0.0079,\n",
      "         0.0224, -0.0349,  0.0118, -0.0268,  0.0176, -0.0018, -0.0018,  0.0282,\n",
      "        -0.0199, -0.0251, -0.0146,  0.0156,  0.0260,  0.0140, -0.0269,  0.0356,\n",
      "        -0.0110,  0.0249, -0.0234, -0.0301,  0.0120, -0.0280,  0.0221,  0.0142,\n",
      "        -0.0005, -0.0280,  0.0131,  0.0003,  0.0338,  0.0134,  0.0216, -0.0238,\n",
      "         0.0063, -0.0303,  0.0142, -0.0149, -0.0200, -0.0334,  0.0334, -0.0197,\n",
      "        -0.0317, -0.0264,  0.0194,  0.0149,  0.0356,  0.0233, -0.0125, -0.0209,\n",
      "        -0.0029,  0.0345,  0.0344,  0.0280, -0.0294,  0.0181,  0.0262, -0.0318,\n",
      "        -0.0043,  0.0167, -0.0302,  0.0336,  0.0349,  0.0177, -0.0280, -0.0098,\n",
      "        -0.0182,  0.0170, -0.0321, -0.0079,  0.0062,  0.0213, -0.0077,  0.0208,\n",
      "         0.0041, -0.0087, -0.0174, -0.0102, -0.0330, -0.0256, -0.0172,  0.0223,\n",
      "        -0.0215,  0.0276, -0.0178,  0.0191,  0.0152,  0.0057, -0.0147,  0.0019,\n",
      "         0.0158, -0.0349, -0.0145,  0.0018, -0.0334,  0.0117,  0.0041, -0.0216,\n",
      "         0.0222, -0.0054, -0.0052, -0.0155,  0.0005,  0.0203, -0.0240,  0.0195,\n",
      "        -0.0200, -0.0052, -0.0012, -0.0220, -0.0136, -0.0352, -0.0130, -0.0039,\n",
      "         0.0119, -0.0195,  0.0278, -0.0170,  0.0150, -0.0167,  0.0116,  0.0054],\n",
      "       requires_grad=True)\n"
     ]
    }
   ],
   "source": [
    "print(model.fc1.weight)\n",
    "print(model.fc1.bias)"
   ]
  },
  {
   "cell_type": "markdown",
   "metadata": {},
   "source": [
    "For custom initialization, we want to modify these tensors in place. These are actually autograd *Variables*, so we need to get back the actual tensors with `model.fc1.weight.data`. Once we have the tensors, we can fill them with zeros (for biases) or random normal values."
   ]
  },
  {
   "cell_type": "code",
   "execution_count": 17,
   "metadata": {},
   "outputs": [
    {
     "data": {
      "text/plain": [
       "tensor([0., 0., 0., 0., 0., 0., 0., 0., 0., 0., 0., 0., 0., 0., 0., 0., 0., 0.,\n",
       "        0., 0., 0., 0., 0., 0., 0., 0., 0., 0., 0., 0., 0., 0., 0., 0., 0., 0.,\n",
       "        0., 0., 0., 0., 0., 0., 0., 0., 0., 0., 0., 0., 0., 0., 0., 0., 0., 0.,\n",
       "        0., 0., 0., 0., 0., 0., 0., 0., 0., 0., 0., 0., 0., 0., 0., 0., 0., 0.,\n",
       "        0., 0., 0., 0., 0., 0., 0., 0., 0., 0., 0., 0., 0., 0., 0., 0., 0., 0.,\n",
       "        0., 0., 0., 0., 0., 0., 0., 0., 0., 0., 0., 0., 0., 0., 0., 0., 0., 0.,\n",
       "        0., 0., 0., 0., 0., 0., 0., 0., 0., 0., 0., 0., 0., 0., 0., 0., 0., 0.,\n",
       "        0., 0.])"
      ]
     },
     "execution_count": 17,
     "metadata": {},
     "output_type": "execute_result"
    }
   ],
   "source": [
    "# Set biases to all zeros\n",
    "model.fc1.bias.data.fill_(0)"
   ]
  },
  {
   "cell_type": "code",
   "execution_count": 18,
   "metadata": {},
   "outputs": [
    {
     "data": {
      "text/plain": [
       "tensor([[-0.0242, -0.0072,  0.0070,  ..., -0.0064,  0.0148,  0.0037],\n",
       "        [-0.0076,  0.0217,  0.0057,  ...,  0.0037,  0.0001,  0.0175],\n",
       "        [ 0.0004, -0.0001, -0.0017,  ...,  0.0020,  0.0022, -0.0074],\n",
       "        ...,\n",
       "        [-0.0086, -0.0003, -0.0048,  ...,  0.0017, -0.0092, -0.0015],\n",
       "        [-0.0040,  0.0057,  0.0101,  ..., -0.0105,  0.0066,  0.0123],\n",
       "        [-0.0066,  0.0177,  0.0156,  ...,  0.0040,  0.0013, -0.0121]])"
      ]
     },
     "execution_count": 18,
     "metadata": {},
     "output_type": "execute_result"
    }
   ],
   "source": [
    "# sample from random normal with standard dev = 0.01\n",
    "model.fc1.weight.data.normal_(std=0.01)"
   ]
  },
  {
   "cell_type": "markdown",
   "metadata": {},
   "source": [
    "### Forward pass\n",
    "\n",
    "Now that we have a network, let's see what happens when we pass in an image."
   ]
  },
  {
   "cell_type": "code",
   "execution_count": 21,
   "metadata": {},
   "outputs": [
    {
     "data": {
      "image/png": "[encoded data removed]",
      "text/plain": [
       "<Figure size 432x648 with 2 Axes>"
      ]
     },
     "metadata": {
      "image/png": {
       "height": 226,
       "width": 423
      },
      "needs_background": "light"
     },
     "output_type": "display_data"
    }
   ],
   "source": [
    "# Grab some data \n",
    "dataiter = iter(trainloader)\n",
    "images, labels = dataiter.next()\n",
    "\n",
    "# Resize images into a 1D vector, new shape is (batch size, color channels, image pixels) \n",
    "images.resize_(64, 1, 784)\n",
    "# or images.resize_(images.shape[0], 1, 784) to automatically get batch size\n",
    "\n",
    "# Forward pass through the network\n",
    "img_idx = 0\n",
    "ps = model.forward(images[img_idx,:])\n",
    "\n",
    "img = images[img_idx]\n",
    "helper.view_classify(img.view(1, 28, 28), ps)"
   ]
  },
  {
   "cell_type": "markdown",
   "metadata": {},
   "source": [
    "As you can see above, our network has basically no idea what this digit is. It's because we haven't trained it yet, all the weights are random!\n",
    "\n",
    "### Using `nn.Sequential`\n",
    "\n",
    "PyTorch provides a convenient way to build networks like this where a tensor is passed sequentially through operations, `nn.Sequential` ([documentation](https://pytorch.org/docs/master/nn.html#torch.nn.Sequential)). Using this to build the equivalent network:"
   ]
  },
  {
   "cell_type": "code",
   "execution_count": 24,
   "metadata": {},
   "outputs": [
    {
     "name": "stdout",
     "output_type": "stream",
     "text": [
      "Sequential(\n",
      "  (0): Linear(in_features=784, out_features=128, bias=True)\n",
      "  (1): ReLU()\n",
      "  (2): Linear(in_features=128, out_features=64, bias=True)\n",
      "  (3): ReLU()\n",
      "  (4): Linear(in_features=64, out_features=10, bias=True)\n",
      "  (5): Softmax()\n",
      ")\n"
     ]
    },
    {
     "data": {
      "image/png": "[encoded data removed]",
      "text/plain": [
       "<Figure size 432x648 with 2 Axes>"
      ]
     },
     "metadata": {
      "image/png": {
       "height": 226,
       "width": 423
      },
      "needs_background": "light"
     },
     "output_type": "display_data"
    }
   ],
   "source": [
    "# Hyperparameters for our network\n",
    "input_size = 784\n",
    "hidden_sizes = [128, 64]\n",
    "output_size = 10\n",
    "\n",
    "# Build a feed-forward network\n",
    "model = nn.Sequential(nn.Linear(input_size, hidden_sizes[0]),\n",
    "                      nn.ReLU(),\n",
    "                      nn.Linear(hidden_sizes[0], hidden_sizes[1]),\n",
    "                      nn.ReLU(),\n",
    "                      nn.Linear(hidden_sizes[1], output_size),\n",
    "                      nn.Softmax(dim=1))\n",
    "print(model)\n",
    "\n",
    "# Forward pass through the network and display output\n",
    "images, labels = next(iter(trainloader))\n",
    "images.resize_(images.shape[0], 1, 784)\n",
    "ps = model.forward(images[0,:])\n",
    "helper.view_classify(images[0].view(1, 28, 28), ps)"
   ]
  },
  {
   "cell_type": "markdown",
   "metadata": {},
   "source": [
    "Here our model is the same as before: 784 input units, a hidden layer with 128 units, ReLU activation, 64 unit hidden layer, another ReLU, then the output layer with 10 units, and the softmax output.\n",
    "\n",
    "The operations are availble by passing in the appropriate index. For example, if you want to get first Linear operation and look at the weights, you'd use `model[0]`."
   ]
  },
  {
   "cell_type": "code",
   "execution_count": 25,
   "metadata": {},
   "outputs": [
    {
     "name": "stdout",
     "output_type": "stream",
     "text": [
      "Linear(in_features=784, out_features=128, bias=True)\n"
     ]
    },
    {
     "data": {
      "text/plain": [
       "Parameter containing:\n",
       "tensor([[-0.0289,  0.0324, -0.0168,  ...,  0.0244, -0.0295,  0.0185],\n",
       "        [ 0.0166, -0.0344, -0.0350,  ..., -0.0046,  0.0326, -0.0357],\n",
       "        [ 0.0308,  0.0137,  0.0005,  ..., -0.0133,  0.0200,  0.0037],\n",
       "        ...,\n",
       "        [ 0.0044,  0.0083,  0.0213,  ...,  0.0145, -0.0122, -0.0119],\n",
       "        [-0.0259,  0.0317, -0.0302,  ..., -0.0069,  0.0342, -0.0185],\n",
       "        [ 0.0200,  0.0109,  0.0070,  ...,  0.0134,  0.0201, -0.0308]],\n",
       "       requires_grad=True)"
      ]
     },
     "execution_count": 25,
     "metadata": {},
     "output_type": "execute_result"
    }
   ],
   "source": [
    "print(model[0])\n",
    "model[0].weight"
   ]
  },
  {
   "cell_type": "markdown",
   "metadata": {},
   "source": [
    "You can also pass in an `OrderedDict` to name the individual layers and operations, instead of using incremental integers. Note that dictionary keys must be unique, so _each operation must have a different name_."
   ]
  },
  {
   "cell_type": "code",
   "execution_count": 27,
   "metadata": {},
   "outputs": [
    {
     "data": {
      "text/plain": [
       "Sequential(\n",
       "  (fc1): Linear(in_features=784, out_features=128, bias=True)\n",
       "  (relu1): ReLU()\n",
       "  (fc2): Linear(in_features=128, out_features=64, bias=True)\n",
       "  (relu2): ReLU()\n",
       "  (output): Linear(in_features=64, out_features=10, bias=True)\n",
       "  (softmax): Softmax()\n",
       ")"
      ]
     },
     "execution_count": 27,
     "metadata": {},
     "output_type": "execute_result"
    }
   ],
   "source": [
    "from collections import OrderedDict\n",
    "model = nn.Sequential(OrderedDict([\n",
    "                      ('fc1', nn.Linear(input_size, hidden_sizes[0])),\n",
    "                      ('relu1', nn.ReLU()),\n",
    "                      ('fc2', nn.Linear(hidden_sizes[0], hidden_sizes[1])),\n",
    "                      ('relu2', nn.ReLU()),\n",
    "                      ('output', nn.Linear(hidden_sizes[1], output_size)),\n",
    "                      ('softmax', nn.Softmax(dim=1))]))\n",
    "model"
   ]
  },
  {
   "cell_type": "markdown",
   "metadata": {},
   "source": [
    "Now you can access layers either by integer or the name"
   ]
  },
  {
   "cell_type": "code",
   "execution_count": 32,
   "metadata": {},
   "outputs": [
    {
     "name": "stdout",
     "output_type": "stream",
     "text": [
      "Linear(in_features=784, out_features=128, bias=True)\n",
      "Linear(in_features=784, out_features=128, bias=True)\n"
     ]
    }
   ],
   "source": [
    "print(model[0])\n",
    "print(model.fc1)"
   ]
  },
  {
   "cell_type": "markdown",
   "metadata": {},
   "source": [
    "In the next notebook, we'll see how we can train a neural network to accuractly predict the numbers appearing in the MNIST images."
   ]
  }
 ],
 "metadata": {
  "kernelspec": {
   "display_name": "Python 3",
   "language": "python",
   "name": "python3"
  },
  "language_info": {
   "codemirror_mode": {
    "name": "ipython",
    "version": 3
   },
   "file_extension": ".py",
   "mimetype": "text/x-python",
   "name": "python",
   "nbconvert_exporter": "python",
   "pygments_lexer": "ipython3",
   "version": "3.7.3"
  }
 },
 "nbformat": 4,
 "nbformat_minor": 2
}
